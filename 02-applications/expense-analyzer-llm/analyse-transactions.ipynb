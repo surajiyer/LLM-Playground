{
 "cells": [
  {
   "cell_type": "code",
   "execution_count": null,
   "metadata": {},
   "outputs": [],
   "source": [
    "# !pip3 install langchain langchain_community"
   ]
  },
  {
   "cell_type": "code",
   "execution_count": null,
   "metadata": {},
   "outputs": [],
   "source": [
    "%load_ext autoreload\n",
    "%autoreload 2\n",
    "\n",
    "from langchain_community.llms import Ollama\n",
    "import pandas as pd"
   ]
  },
  {
   "cell_type": "code",
   "execution_count": null,
   "metadata": {},
   "outputs": [],
   "source": [
    "df = pd.read_csv('data/transactions-mar-2024.csv', encoding='ISO-8859-1')\n",
    "df.columns = [\n",
    "    'IBAN/BBAN', 'Currency', 'BIC', 'Sequence number', 'Date', 'Interest date', 'Amount',\n",
    "    'Balance after trn', 'Offset account IBAN/BBAN', 'Name of counterparty',\n",
    "    'Name of final party', 'Name of initiating party',\n",
    "    'BIC counterparty', 'Code', 'Batch ID', 'Transaction reference',\n",
    "    'Authorization reference', 'Payee ID', 'Payment reference',\n",
    "    'Description-1', 'Description-2', 'Description-3', 'Reason for return',\n",
    "    'Original amount', 'Original currency', 'Rate',\n",
    "]\n",
    "df = df.loc[df[\"Amount\"].str[0] == \"-\", [\"Amount\", \"Name of counterparty\"]]\n",
    "df.head()"
   ]
  },
  {
   "cell_type": "code",
   "execution_count": null,
   "metadata": {},
   "outputs": [],
   "source": [
    "df.columns"
   ]
  },
  {
   "cell_type": "code",
   "execution_count": null,
   "metadata": {},
   "outputs": [],
   "source": [
    "llm = Ollama(model=\"expense-analyzer-llama2\")\n",
    "responses = []\n",
    "for i in range(0, len(df), 10):\n",
    "    response = llm.invoke(\"Transaction descriptions\\n\" + '\\n'.join(df['Name of counterparty'].tolist()[i:i+10]))\n",
    "    responses.append(response)"
   ]
  }
 ],
 "metadata": {
  "kernelspec": {
   "display_name": "base",
   "language": "python",
   "name": "python3"
  },
  "language_info": {
   "codemirror_mode": {
    "name": "ipython",
    "version": 3
   },
   "file_extension": ".py",
   "mimetype": "text/x-python",
   "name": "python",
   "nbconvert_exporter": "python",
   "pygments_lexer": "ipython3",
   "version": "3.10.13"
  }
 },
 "nbformat": 4,
 "nbformat_minor": 2
}
