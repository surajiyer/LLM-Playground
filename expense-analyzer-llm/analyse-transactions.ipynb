{
 "cells": [
  {
   "cell_type": "code",
   "execution_count": 1,
   "metadata": {},
   "outputs": [],
   "source": [
    "# !pip3 install langchain langchain_community"
   ]
  },
  {
   "cell_type": "code",
   "execution_count": 2,
   "metadata": {},
   "outputs": [],
   "source": [
    "%load_ext autoreload\n",
    "%autoreload 2\n",
    "\n",
    "from langchain_community.llms import Ollama\n",
    "import pandas as pd"
   ]
  },
  {
   "cell_type": "code",
   "execution_count": 12,
   "metadata": {},
   "outputs": [
    {
     "data": {
      "text/html": [
       "<div>\n",
       "<style scoped>\n",
       "    .dataframe tbody tr th:only-of-type {\n",
       "        vertical-align: middle;\n",
       "    }\n",
       "\n",
       "    .dataframe tbody tr th {\n",
       "        vertical-align: top;\n",
       "    }\n",
       "\n",
       "    .dataframe thead th {\n",
       "        text-align: right;\n",
       "    }\n",
       "</style>\n",
       "<table border=\"1\" class=\"dataframe\">\n",
       "  <thead>\n",
       "    <tr style=\"text-align: right;\">\n",
       "      <th></th>\n",
       "      <th>Amount</th>\n",
       "      <th>Name of counterparty</th>\n",
       "    </tr>\n",
       "  </thead>\n",
       "  <tbody>\n",
       "    <tr>\n",
       "      <th>0</th>\n",
       "      <td>-16,00</td>\n",
       "      <td>Brabant Water</td>\n",
       "    </tr>\n",
       "    <tr>\n",
       "      <th>1</th>\n",
       "      <td>-1060,42</td>\n",
       "      <td>BOUWINVEST RESIDENTIAL</td>\n",
       "    </tr>\n",
       "    <tr>\n",
       "      <th>2</th>\n",
       "      <td>-58,53</td>\n",
       "      <td>PayPal Europe S.a.r.l. et Cie S.C.A</td>\n",
       "    </tr>\n",
       "    <tr>\n",
       "      <th>3</th>\n",
       "      <td>-18,00</td>\n",
       "      <td>SumUp  *Kapsalon Zana EINDHOVEN</td>\n",
       "    </tr>\n",
       "    <tr>\n",
       "      <th>4</th>\n",
       "      <td>-14,84</td>\n",
       "      <td>Albert Heijn Strijp EINDHOVEN</td>\n",
       "    </tr>\n",
       "  </tbody>\n",
       "</table>\n",
       "</div>"
      ],
      "text/plain": [
       "     Amount                 Name of counterparty\n",
       "0    -16,00                        Brabant Water\n",
       "1  -1060,42               BOUWINVEST RESIDENTIAL\n",
       "2    -58,53  PayPal Europe S.a.r.l. et Cie S.C.A\n",
       "3    -18,00      SumUp  *Kapsalon Zana EINDHOVEN\n",
       "4    -14,84        Albert Heijn Strijp EINDHOVEN"
      ]
     },
     "execution_count": 12,
     "metadata": {},
     "output_type": "execute_result"
    }
   ],
   "source": [
    "df = pd.read_csv('data/transactions-mar-2024.csv', encoding='ISO-8859-1')\n",
    "df.columns = [\n",
    "    'IBAN/BBAN', 'Currency', 'BIC', 'Sequence number', 'Date', 'Interest date', 'Amount',\n",
    "    'Balance after trn', 'Offset account IBAN/BBAN', 'Name of counterparty',\n",
    "    'Name of final party', 'Name of initiating party',\n",
    "    'BIC counterparty', 'Code', 'Batch ID', 'Transaction reference',\n",
    "    'Authorization reference', 'Payee ID', 'Payment reference',\n",
    "    'Description-1', 'Description-2', 'Description-3', 'Reason for return',\n",
    "    'Original amount', 'Original currency', 'Rate',\n",
    "]\n",
    "df = df.loc[df[\"Amount\"].str[0] == \"-\", [\"Amount\", \"Name of counterparty\"]]\n",
    "df.head()"
   ]
  },
  {
   "cell_type": "code",
   "execution_count": 4,
   "metadata": {},
   "outputs": [
    {
     "data": {
      "text/plain": [
       "Index(['IBAN/BBAN', 'Currency', 'BIC', 'Sequence number', 'Date',\n",
       "       'Interest date', 'Amount', 'Balance after trn',\n",
       "       'Offset account IBAN/BBAN', 'Name of counterparty',\n",
       "       'Name of final party', 'Name of initiating party', 'BIC counterparty',\n",
       "       'Code', 'Batch ID', 'Transaction reference', 'Authorization reference',\n",
       "       'Payee ID', 'Payment reference', 'Description-1', 'Description-2',\n",
       "       'Description-3', 'Reason for return', 'Original amount',\n",
       "       'Original currency', 'Rate'],\n",
       "      dtype='object')"
      ]
     },
     "execution_count": 4,
     "metadata": {},
     "output_type": "execute_result"
    }
   ],
   "source": [
    "df.columns"
   ]
  },
  {
   "cell_type": "code",
   "execution_count": 21,
   "metadata": {},
   "outputs": [
    {
     "name": "stdout",
     "output_type": "stream",
     "text": [
      "Here are the predicted categories for each transaction:\n",
      "\n",
      "1. Brabant Water - \"Other\"\n",
      "2. BOUWINVEST RESIDENTIAL - \"Household\"\n",
      "3. PayPal Europe S.a.r.l. et Cie S.C.A - \"Other\"\n",
      "4. SumUp * Kapsalon Zana EINDHOVEN - \"Groceries\"\n",
      "5. Albert Heijn Strijp EINDHOVEN - \"Groceries\"\n",
      "6. Kosten - \"Other\"\n",
      "7. AMZN MKTP NL via Amazon Payments Europe SCA - \"Other\"\n",
      "8. CCV*Trafalgar Pub B.V. EINDHOVEN - \"Entertainment\"\n",
      "9. TMUSIC - \"Entertainment\"\n",
      "10. PayPal Europe S.a.r.l. et Cie S.C.A - \"Other\"\n",
      "11. CCV*ISS CATERING SERVI DE MEERN - \"Groceries\"\n",
      "12. FBTO - \"Other\"\n",
      "13. PayPal Europe S.a.r.l. et Cie S.C.A - \"Other\"\n",
      "14. CCV*ISS CATERING SERVI DE MEERN - \"Groceries\"\n",
      "15. Butlaroo Services B.V. - \"Other\"\n",
      "16. Albert Heijn 1876 EINDHOVEN - \"Groceries\"\n",
      "17. Zettle_ * Around coffee Eindhoven - \"Entertainment\"\n",
      "18. C&M*Mersan EINDHOVEN - \"Other\"\n",
      "19. Jk Eindhoven Eindhoven - \"Other\"\n",
      "20. De Pink Eindhoven - \"Other\"\n",
      "21. ING Betaalverzoek via ING Bank NV Betaalverzoek - \"Other\"\n",
      "22. CCV*ISS CATERING SERVI DE MEERN - \"Groceries\"\n",
      "23. NYX*VendingWork Groningen - \"Other\"\n",
      "24. Smullers Den Bosch 'S-HERTOGENBO - \"Entertainment\"\n",
      "25. Albert Heijn 1876 EINDHOVEN - \"Groceries\"\n",
      "26. PayPal Europe S.a.r.l. et Cie S.C.A - \"Other\"\n",
      "27. NS GROEP IZ NS REIZIGERS - \"Transportation\"\n",
      "28. ODIDO NETHERLANDS B.V. - \"Other\"\n",
      "29. ENNATUURLIJK BV - \"Other\"\n",
      "30. PayPal Europe S.a.r.l. et Cie S.C.A - \"Other\"\n",
      "31. Vrij Op Naam B.V. - \"Other\"\n",
      "32. ODIDO NETHERLANDS B.V. - \"Other\"\n",
      "33. McDonalds Markt EINDHOVEN - \"Entertainment\"\n",
      "34. VinkVink - \"Other\"\n",
      "35. Shell Eijsden Eijsden - \"Transportation\"\n",
      "36. Societe Karting Franco Stavelot BEL - \"Other\"\n",
      "37. PC 2-tandartsen Gits + van Oers - \"Other\"\n"
     ]
    }
   ],
   "source": [
    "llm = Ollama(model=\"expense-analyzer-llama2\")\n",
    "responses = []\n",
    "for i in range(0, len(df), 10):\n",
    "    response = llm.invoke(\"Transaction descriptions\\n\" + '\\n'.join(df['Name of counterparty'].tolist()[i:i+10]))\n",
    "    responses.append(response)"
   ]
  },
  {
   "cell_type": "code",
   "execution_count": null,
   "metadata": {},
   "outputs": [],
   "source": []
  }
 ],
 "metadata": {
  "kernelspec": {
   "display_name": "base",
   "language": "python",
   "name": "python3"
  },
  "language_info": {
   "codemirror_mode": {
    "name": "ipython",
    "version": 3
   },
   "file_extension": ".py",
   "mimetype": "text/x-python",
   "name": "python",
   "nbconvert_exporter": "python",
   "pygments_lexer": "ipython3",
   "version": "3.10.13"
  }
 },
 "nbformat": 4,
 "nbformat_minor": 2
}
