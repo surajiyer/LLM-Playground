{
 "cells": [
  {
   "cell_type": "code",
   "execution_count": null,
   "metadata": {},
   "outputs": [],
   "source": [
    "%load_ext autoreload\n",
    "%autoreload 2\n",
    "\n",
    "import requests\n",
    "import sqlite3\n",
    "import time\n",
    "\n",
    "from bs4 import BeautifulSoup\n",
    "from googlesearch import search\n",
    "from kerykeion import (\n",
    "    AstrologicalSubject,\n",
    "    Houses,\n",
    "    KerykeionPointModel,\n",
    "    Planet,\n",
    "    PointType,\n",
    "    Report,\n",
    "    ZodiacSignModel,\n",
    ")\n",
    "from pydantic import computed_field\n",
    "from readability import Document\n",
    "from typing import get_args\n",
    "from typing import Literal, Union"
   ]
  },
  {
   "cell_type": "markdown",
   "metadata": {},
   "source": [
    "## Get the astrological birth chart"
   ]
  },
  {
   "cell_type": "code",
   "execution_count": null,
   "metadata": {},
   "outputs": [],
   "source": [
    "subject = AstrologicalSubject(\n",
    "    name=\"Subject\",\n",
    "    year=1996, month=3, day=20,\n",
    "    hour=17, minute=33,\n",
    "    lng=72.88261, lat=19.07283,\n",
    "    tz_str=\"Asia/Kolkata\",\n",
    "    city=\"Mumbai\",\n",
    "    zodiac_type=\"Sidereal\",\n",
    "    sidereal_mode=\"LAHIRI\",\n",
    ")\n",
    "report = Report(subject)\n",
    "report.print_report()"
   ]
  },
  {
   "cell_type": "markdown",
   "metadata": {},
   "source": [
    "# 2 Retrieve relevant links"
   ]
  },
  {
   "cell_type": "code",
   "execution_count": 20,
   "metadata": {},
   "outputs": [],
   "source": [
    "Nakshatra = Literal[\n",
    "    \"Ashwini\", \"Bharani\", \"Krittika\", \"Rohini\", \"Mrigashira\", \"Ardra\", \"Punarvasu\", \"Pushya\", \"Ashlesha\",\n",
    "    \"Magha\", \"Purva Phalguni\", \"Uttara Phalguni\", \"Hasta\", \"Chitra\", \"Swati\", \"Vishakha\", \"Anuradha\", \"Jyeshtha\",\n",
    "    \"Mula\", \"Purva Ashadha\", \"Uttara Ashadha\", \"Shravana\", \"Dhanishta\", \"Shatabhisha\", \"Purva Bhadrapada\",\n",
    "    \"Uttara Bhadrapada\", \"Revati\"\n",
    "]\n",
    "Pada = Literal[1, 2, 3, 4]\n",
    "\n",
    "class CustomKerykeionPointModel(KerykeionPointModel):\n",
    "    name: Union[Planet, Houses, Literal[\"South_Node\"]]\n",
    "\n",
    "    @computed_field(return_type=Nakshatra)\n",
    "    def nakshatra(self) -> Nakshatra:\n",
    "        index = int(self.abs_pos // 13.3333)\n",
    "        return get_args(Nakshatra)[index]\n",
    "\n",
    "    @computed_field(return_type=Pada)\n",
    "    def pada(self):\n",
    "        index = int((self.abs_pos % 13.3333) // 3.3333)\n",
    "        return get_args(Pada)[index]\n",
    "\n",
    "    @classmethod\n",
    "    def get_kerykeion_point_from_degree(cls, degree: Union[int, float], name: str, point_type: PointType) -> str:\n",
    "        ZODIAC_SIGNS = {\n",
    "            0: ZodiacSignModel(sign=\"Ari\", quality=\"Cardinal\", element=\"Fire\", emoji=\"♈️\", sign_num=0),\n",
    "            1: ZodiacSignModel(sign=\"Tau\", quality=\"Fixed\", element=\"Earth\", emoji=\"♉️\", sign_num=1),\n",
    "            2: ZodiacSignModel(sign=\"Gem\", quality=\"Mutable\", element=\"Air\", emoji=\"♊️\", sign_num=2),\n",
    "            3: ZodiacSignModel(sign=\"Can\", quality=\"Cardinal\", element=\"Water\", emoji=\"♋️\", sign_num=3),\n",
    "            4: ZodiacSignModel(sign=\"Leo\", quality=\"Fixed\", element=\"Fire\", emoji=\"♌️\", sign_num=4),\n",
    "            5: ZodiacSignModel(sign=\"Vir\", quality=\"Mutable\", element=\"Earth\", emoji=\"♍️\", sign_num=5),\n",
    "            6: ZodiacSignModel(sign=\"Lib\", quality=\"Cardinal\", element=\"Air\", emoji=\"♎️\", sign_num=6),\n",
    "            7: ZodiacSignModel(sign=\"Sco\", quality=\"Fixed\", element=\"Water\", emoji=\"♏️\", sign_num=7),\n",
    "            8: ZodiacSignModel(sign=\"Sag\", quality=\"Mutable\", element=\"Fire\", emoji=\"♐️\", sign_num=8),\n",
    "            9: ZodiacSignModel(sign=\"Cap\", quality=\"Cardinal\", element=\"Earth\", emoji=\"♑️\", sign_num=9),\n",
    "            10: ZodiacSignModel(sign=\"Aqu\", quality=\"Fixed\", element=\"Air\", emoji=\"♒️\", sign_num=10),\n",
    "            11: ZodiacSignModel(sign=\"Pis\", quality=\"Mutable\", element=\"Water\", emoji=\"♓️\", sign_num=11),\n",
    "        }\n",
    "        sign_index = int(degree // 30)\n",
    "        sign_degree = degree % 30\n",
    "        zodiac_sign = ZODIAC_SIGNS[sign_index]\n",
    "        return CustomKerykeionPointModel(\n",
    "            name=name,\n",
    "            quality=zodiac_sign.quality,\n",
    "            element=zodiac_sign.element,\n",
    "            sign=zodiac_sign.sign,\n",
    "            sign_num=zodiac_sign.sign_num,\n",
    "            position=sign_degree,\n",
    "            abs_pos=degree,\n",
    "            emoji=zodiac_sign.emoji,\n",
    "            point_type=point_type,\n",
    "        )\n",
    "\n",
    "    @classmethod\n",
    "    def copy_from(cls, source: KerykeionPointModel) -> 'CustomKerykeionPointModel':\n",
    "        return cls(\n",
    "            name=source.name,\n",
    "            quality=source.quality,\n",
    "            element=source.element,\n",
    "            sign=source.sign,\n",
    "            sign_num=source.sign_num,\n",
    "            position=source.position,\n",
    "            abs_pos=source.abs_pos,\n",
    "            emoji=source.emoji,\n",
    "            point_type=source.point_type,\n",
    "        )"
   ]
  },
  {
   "cell_type": "code",
   "execution_count": null,
   "metadata": {},
   "outputs": [],
   "source": [
    "planets_list = [subject.sun, subject.moon, subject.mercury, subject.venus, subject.mars, subject.jupiter, subject.saturn, subject.mean_node]\n",
    "planets_list = [CustomKerykeionPointModel.copy_from(planet) for planet in planets_list]\n",
    "south_node = CustomKerykeionPointModel.get_kerykeion_point_from_degree(\n",
    "    (subject.mean_node.abs_pos + 180) % 360,\n",
    "    \"South_Node\",\n",
    "    point_type=subject.mean_node.point_type,\n",
    ")\n",
    "planets_list.append(south_node)\n",
    "for planet in planets_list:\n",
    "    print(f\"{planet.name} is in {planet.nakshatra}, {planet.pada}\")"
   ]
  },
  {
   "cell_type": "markdown",
   "metadata": {},
   "source": [
    "## Google search relevant documents"
   ]
  },
  {
   "cell_type": "code",
   "execution_count": null,
   "metadata": {},
   "outputs": [],
   "source": [
    "# urls = []\n",
    "# pause_per_query = 3\n",
    "# user_agent = 'Mozilla/5.0 (Macintosh; Intel Mac OS X 10.12; rv:55.0) Gecko/20100101 Firefox/55.0'\n",
    "# for query in queries:\n",
    "# \tquery += \" site:astrosaxena.in\"\n",
    "# \tfor j in search(query, tld=\"co.in\", num=3, stop=3, pause=3, user_agent=user_agent):\n",
    "# \t\turls.append(j)\n",
    "# \ttime.sleep(pause_per_query)"
   ]
  },
  {
   "cell_type": "markdown",
   "metadata": {},
   "source": [
    "## Extract content from internet documents"
   ]
  },
  {
   "cell_type": "code",
   "execution_count": null,
   "metadata": {},
   "outputs": [],
   "source": [
    "# def get_url_content(url: str):\n",
    "#     response = requests.get(url, headers={'User-Agent': user_agent})\n",
    "#     doc = Document(response.content)\n",
    "#     soup = BeautifulSoup(doc.summary(), 'html.parser')\n",
    "#     text = soup.get_text()\n",
    "#     return doc.title(), text\n",
    "\n",
    "# get_url_content(\"https://www.astrosaxena.in/astrology/info/703/concept-of-combust-planets\")"
   ]
  },
  {
   "cell_type": "code",
   "execution_count": null,
   "metadata": {},
   "outputs": [],
   "source": [
    "# create_table_sql = \"\"\"\n",
    "# create table if not exists knowledge_base (\n",
    "#     id INTEGER primary key autoincrement,\n",
    "#     url TEXT not null unique,\n",
    "#     content TEXT not null,\n",
    "#     created_at TIMESTAMP not null default CURRENT_TIMESTAMP,\n",
    "# );\n",
    "# \"\"\"\n",
    "# connection = sqlite3.connect(\"astrosaxena.db\")\n",
    "# cursor = connection.cursor()\n",
    "# cursor.execute(create_table_sql)\n",
    "# try:\n",
    "#     for url in urls:\n",
    "#         text = get_url_content(url)\n",
    "#         cursor.execute(\"insert into knowledge_base values (url, content)\")\n",
    "#         connection.commit()\n",
    "# finally:\n",
    "#     connection.close()"
   ]
  },
  {
   "cell_type": "markdown",
   "metadata": {},
   "source": [
    "## Retrieval-augmented answering"
   ]
  },
  {
   "cell_type": "code",
   "execution_count": null,
   "metadata": {},
   "outputs": [],
   "source": []
  }
 ],
 "metadata": {
  "kernelspec": {
   "display_name": ".venv",
   "language": "python",
   "name": "python3"
  },
  "language_info": {
   "codemirror_mode": {
    "name": "ipython",
    "version": 3
   },
   "file_extension": ".py",
   "mimetype": "text/x-python",
   "name": "python",
   "nbconvert_exporter": "python",
   "pygments_lexer": "ipython3",
   "version": "3.10.14"
  }
 },
 "nbformat": 4,
 "nbformat_minor": 2
}
